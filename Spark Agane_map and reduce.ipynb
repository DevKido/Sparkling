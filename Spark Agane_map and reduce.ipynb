{
 "cells": [
  {
   "cell_type": "code",
   "execution_count": 1,
   "metadata": {},
   "outputs": [
    {
     "data": {
      "text/html": [
       "<style>#notebook { padding-top:0px !important; } .container { width:100% !important; } .end_space { min-height:0px !important; } </style>"
      ],
      "text/plain": [
       "<IPython.core.display.HTML object>"
      ]
     },
     "metadata": {},
     "output_type": "display_data"
    }
   ],
   "source": [
    "from IPython.core.display import display, HTML\n",
    "display(HTML(\n",
    "    '<style>'\n",
    "        '#notebook { padding-top:0px !important; } ' \n",
    "        '.container { width:100% !important; } '\n",
    "        '.end_space { min-height:0px !important; } '\n",
    "    '</style>'\n",
    "))"
   ]
  },
  {
   "cell_type": "code",
   "execution_count": 2,
   "metadata": {},
   "outputs": [
    {
     "data": {
      "text/plain": [
       "'D:\\\\Softwares\\\\Spark\\\\spark-2.4.7-bin-hadoop2.7'"
      ]
     },
     "execution_count": 2,
     "metadata": {},
     "output_type": "execute_result"
    }
   ],
   "source": [
    "import findspark\n",
    "findspark.init()\n",
    "findspark.find()"
   ]
  },
  {
   "cell_type": "code",
   "execution_count": 3,
   "metadata": {},
   "outputs": [],
   "source": [
    "from pyspark import SparkConf, SparkContext\n",
    "from pyspark.sql import SparkSession\n",
    "\n",
    "conf = SparkConf().setAppName('appName').setMaster('local')\n",
    "sc = SparkContext(conf= conf)"
   ]
  },
  {
   "cell_type": "code",
   "execution_count": 4,
   "metadata": {},
   "outputs": [],
   "source": [
    "spark = SparkSession(sc).builder.appName('basics').getOrCreate()"
   ]
  },
  {
   "cell_type": "code",
   "execution_count": 11,
   "metadata": {},
   "outputs": [
    {
     "data": {
      "text/plain": [
       "pyspark.rdd.RDD"
      ]
     },
     "execution_count": 11,
     "metadata": {},
     "output_type": "execute_result"
    }
   ],
   "source": [
    "#read text data as rdd\n",
    "lines = sc.textFile(\"./Datasets/ml-100k/u.data\")\n",
    "type(lines)"
   ]
  },
  {
   "cell_type": "code",
   "execution_count": 7,
   "metadata": {},
   "outputs": [],
   "source": [
    "#create another RDD from lines with only ratings\n",
    "ratings = lines.map(lambda x : x.split()[2])"
   ]
  },
  {
   "cell_type": "code",
   "execution_count": 12,
   "metadata": {},
   "outputs": [
    {
     "data": {
      "text/plain": [
       "collections.defaultdict"
      ]
     },
     "execution_count": 12,
     "metadata": {},
     "output_type": "execute_result"
    }
   ],
   "source": [
    "#actually perform action on RDD. takes time to execute.\n",
    "#this returns a dictionary?? -- returns a collection\n",
    "results = ratings.countByValue()\n",
    "type(results)"
   ]
  },
  {
   "cell_type": "code",
   "execution_count": 23,
   "metadata": {},
   "outputs": [
    {
     "name": "stdout",
     "output_type": "stream",
     "text": [
      "1 * rating - 6110 numbers\n",
      "2 * rating - 11370 numbers\n",
      "3 * rating - 27145 numbers\n",
      "4 * rating - 34174 numbers\n",
      "5 * rating - 21201 numbers\n"
     ]
    }
   ],
   "source": [
    "import collections\n",
    "for i,j in collections.OrderedDict(sorted(results.items())).items():\n",
    "    print(f\"{i} * rating - {j} numbers\")"
   ]
  },
  {
   "cell_type": "markdown",
   "metadata": {},
   "source": [
    "## FakeFirendz"
   ]
  },
  {
   "cell_type": "code",
   "execution_count": 5,
   "metadata": {},
   "outputs": [],
   "source": [
    "ff = sc.textFile(\"./Datasets/fakefriends.csv\")"
   ]
  },
  {
   "cell_type": "code",
   "execution_count": 32,
   "metadata": {},
   "outputs": [],
   "source": [
    "def parse_fake(x):\n",
    "    line = x.split(\",\")\n",
    "    age, friends = line[2], int(line[3].strip())\n",
    "    return age, friends"
   ]
  },
  {
   "cell_type": "code",
   "execution_count": 33,
   "metadata": {},
   "outputs": [],
   "source": [
    "rdd = ff.map(parse_fake)"
   ]
  },
  {
   "cell_type": "code",
   "execution_count": 34,
   "metadata": {},
   "outputs": [
    {
     "data": {
      "text/plain": [
       "[('33', 385),\n",
       " ('26', 2),\n",
       " ('55', 221),\n",
       " ('40', 465),\n",
       " ('68', 21),\n",
       " ('59', 318),\n",
       " ('37', 220),\n",
       " ('54', 307),\n",
       " ('38', 380),\n",
       " ('27', 181),\n",
       " ('53', 191),\n",
       " ('57', 372),\n",
       " ('54', 253),\n",
       " ('56', 444),\n",
       " ('43', 49),\n",
       " ('36', 49),\n",
       " ('22', 323),\n",
       " ('35', 13),\n",
       " ('45', 455),\n",
       " ('60', 246),\n",
       " ('67', 220),\n",
       " ('19', 268),\n",
       " ('30', 72),\n",
       " ('51', 271),\n",
       " ('25', 1),\n",
       " ('21', 445),\n",
       " ('22', 100),\n",
       " ('42', 363),\n",
       " ('49', 476),\n",
       " ('48', 364),\n",
       " ('50', 175),\n",
       " ('39', 161),\n",
       " ('26', 281),\n",
       " ('53', 197),\n",
       " ('43', 249),\n",
       " ('27', 305),\n",
       " ('32', 81),\n",
       " ('58', 21),\n",
       " ('64', 65),\n",
       " ('31', 192),\n",
       " ('52', 413),\n",
       " ('67', 167),\n",
       " ('54', 75),\n",
       " ('58', 345),\n",
       " ('35', 244),\n",
       " ('52', 77),\n",
       " ('25', 96),\n",
       " ('24', 49),\n",
       " ('20', 1),\n",
       " ('40', 254),\n",
       " ('51', 283),\n",
       " ('36', 212),\n",
       " ('19', 269),\n",
       " ('62', 31),\n",
       " ('19', 5),\n",
       " ('41', 278),\n",
       " ('44', 194),\n",
       " ('57', 294),\n",
       " ('59', 158),\n",
       " ('59', 284),\n",
       " ('20', 100),\n",
       " ('62', 442),\n",
       " ('69', 9),\n",
       " ('58', 54),\n",
       " ('31', 15),\n",
       " ('52', 169),\n",
       " ('21', 477),\n",
       " ('48', 135),\n",
       " ('33', 74),\n",
       " ('30', 204),\n",
       " ('52', 393),\n",
       " ('45', 184),\n",
       " ('22', 179),\n",
       " ('20', 384),\n",
       " ('65', 208),\n",
       " ('40', 459),\n",
       " ('62', 201),\n",
       " ('40', 407),\n",
       " ('61', 337),\n",
       " ('58', 348),\n",
       " ('67', 445),\n",
       " ('54', 440),\n",
       " ('57', 465),\n",
       " ('32', 308),\n",
       " ('28', 311),\n",
       " ('66', 383),\n",
       " ('55', 257),\n",
       " ('31', 481),\n",
       " ('66', 188),\n",
       " ('24', 492),\n",
       " ('33', 471),\n",
       " ('46', 88),\n",
       " ('54', 7),\n",
       " ('46', 63),\n",
       " ('62', 133),\n",
       " ('29', 173),\n",
       " ('25', 233),\n",
       " ('69', 361),\n",
       " ('44', 178),\n",
       " ('69', 491),\n",
       " ('61', 460),\n",
       " ('67', 123),\n",
       " ('40', 18),\n",
       " ('61', 2),\n",
       " ('32', 142),\n",
       " ('50', 417),\n",
       " ('18', 499),\n",
       " ('64', 419),\n",
       " ('25', 274),\n",
       " ('53', 417),\n",
       " ('64', 137),\n",
       " ('37', 46),\n",
       " ('25', 13),\n",
       " ('41', 244),\n",
       " ('33', 275),\n",
       " ('18', 397),\n",
       " ('69', 75),\n",
       " ('52', 487),\n",
       " ('28', 304),\n",
       " ('29', 344),\n",
       " ('68', 264),\n",
       " ('35', 355),\n",
       " ('45', 400),\n",
       " ('45', 439),\n",
       " ('47', 429),\n",
       " ('66', 284),\n",
       " ('26', 84),\n",
       " ('40', 284),\n",
       " ('34', 221),\n",
       " ('45', 252),\n",
       " ('67', 350),\n",
       " ('65', 309),\n",
       " ('46', 462),\n",
       " ('19', 265),\n",
       " ('45', 340),\n",
       " ('42', 427),\n",
       " ('19', 335),\n",
       " ('28', 32),\n",
       " ('32', 384),\n",
       " ('36', 193),\n",
       " ('64', 234),\n",
       " ('36', 424),\n",
       " ('59', 335),\n",
       " ('60', 124),\n",
       " ('22', 93),\n",
       " ('45', 470),\n",
       " ('58', 174),\n",
       " ('61', 373),\n",
       " ('39', 248),\n",
       " ('49', 340),\n",
       " ('55', 313),\n",
       " ('54', 441),\n",
       " ('54', 235),\n",
       " ('63', 342),\n",
       " ('40', 389),\n",
       " ('50', 126),\n",
       " ('44', 360),\n",
       " ('34', 319),\n",
       " ('31', 340),\n",
       " ('67', 438),\n",
       " ('58', 112),\n",
       " ('39', 207),\n",
       " ('59', 14),\n",
       " ('67', 204),\n",
       " ('31', 172),\n",
       " ('26', 282),\n",
       " ('25', 10),\n",
       " ('48', 57),\n",
       " ('68', 112),\n",
       " ('53', 92),\n",
       " ('68', 490),\n",
       " ('29', 126),\n",
       " ('55', 204),\n",
       " ('23', 129),\n",
       " ('47', 87),\n",
       " ('38', 459),\n",
       " ('55', 474),\n",
       " ('67', 316),\n",
       " ('26', 381),\n",
       " ('37', 426),\n",
       " ('30', 108),\n",
       " ('43', 404),\n",
       " ('26', 145),\n",
       " ('47', 488),\n",
       " ('44', 84),\n",
       " ('48', 287),\n",
       " ('31', 109),\n",
       " ('47', 225),\n",
       " ('54', 369),\n",
       " ('62', 23),\n",
       " ('60', 294),\n",
       " ('40', 349),\n",
       " ('45', 497),\n",
       " ('60', 125),\n",
       " ('38', 2),\n",
       " ('30', 376),\n",
       " ('38', 173),\n",
       " ('38', 76),\n",
       " ('48', 381),\n",
       " ('38', 180),\n",
       " ('21', 472),\n",
       " ('23', 174),\n",
       " ('63', 469),\n",
       " ('46', 125),\n",
       " ('64', 164),\n",
       " ('69', 236),\n",
       " ('21', 491),\n",
       " ('41', 206),\n",
       " ('37', 271),\n",
       " ('27', 174),\n",
       " ('33', 245),\n",
       " ('61', 73),\n",
       " ('55', 284),\n",
       " ('28', 312),\n",
       " ('32', 182),\n",
       " ('22', 6),\n",
       " ('34', 116),\n",
       " ('29', 260),\n",
       " ('66', 350),\n",
       " ('26', 345),\n",
       " ('41', 394),\n",
       " ('27', 150),\n",
       " ('34', 346),\n",
       " ('40', 406),\n",
       " ('44', 277),\n",
       " ('19', 106),\n",
       " ('37', 207),\n",
       " ('40', 198),\n",
       " ('26', 293),\n",
       " ('24', 150),\n",
       " ('54', 397),\n",
       " ('59', 42),\n",
       " ('68', 481),\n",
       " ('67', 70),\n",
       " ('49', 22),\n",
       " ('57', 8),\n",
       " ('62', 442),\n",
       " ('61', 469),\n",
       " ('25', 305),\n",
       " ('48', 345),\n",
       " ('46', 154),\n",
       " ('45', 332),\n",
       " ('25', 101),\n",
       " ('61', 68),\n",
       " ('21', 471),\n",
       " ('28', 174),\n",
       " ('41', 260),\n",
       " ('52', 338),\n",
       " ('21', 138),\n",
       " ('66', 41),\n",
       " ('36', 342),\n",
       " ('55', 57),\n",
       " ('36', 174),\n",
       " ('69', 116),\n",
       " ('67', 79),\n",
       " ('60', 324),\n",
       " ('32', 412),\n",
       " ('51', 161),\n",
       " ('68', 217),\n",
       " ('29', 11),\n",
       " ('38', 96),\n",
       " ('40', 172),\n",
       " ('51', 334),\n",
       " ('40', 33),\n",
       " ('29', 228),\n",
       " ('27', 471),\n",
       " ('66', 496),\n",
       " ('49', 106),\n",
       " ('26', 298),\n",
       " ('55', 289),\n",
       " ('44', 353),\n",
       " ('25', 446),\n",
       " ('29', 367),\n",
       " ('51', 493),\n",
       " ('64', 244),\n",
       " ('47', 13),\n",
       " ('54', 462),\n",
       " ('46', 300),\n",
       " ('44', 499),\n",
       " ('23', 133),\n",
       " ('26', 492),\n",
       " ('21', 89),\n",
       " ('32', 404),\n",
       " ('65', 443),\n",
       " ('26', 269),\n",
       " ('43', 101),\n",
       " ('30', 384),\n",
       " ('64', 396),\n",
       " ('56', 354),\n",
       " ('30', 221),\n",
       " ('62', 290),\n",
       " ('23', 373),\n",
       " ('63', 380),\n",
       " ('23', 65),\n",
       " ('38', 410),\n",
       " ('40', 56),\n",
       " ('38', 454),\n",
       " ('45', 395),\n",
       " ('57', 207),\n",
       " ('57', 311),\n",
       " ('49', 147),\n",
       " ('28', 108),\n",
       " ('37', 263),\n",
       " ('46', 319),\n",
       " ('19', 404),\n",
       " ('29', 182),\n",
       " ('23', 323),\n",
       " ('41', 340),\n",
       " ('45', 59),\n",
       " ('67', 153),\n",
       " ('68', 189),\n",
       " ('43', 48),\n",
       " ('61', 421),\n",
       " ('59', 169),\n",
       " ('36', 168),\n",
       " ('25', 208),\n",
       " ('64', 391),\n",
       " ('59', 439),\n",
       " ('35', 251),\n",
       " ('30', 476),\n",
       " ('62', 450),\n",
       " ('44', 61),\n",
       " ('58', 92),\n",
       " ('29', 236),\n",
       " ('56', 343),\n",
       " ('51', 492),\n",
       " ('46', 407),\n",
       " ('20', 63),\n",
       " ('62', 41),\n",
       " ('67', 35),\n",
       " ('33', 356),\n",
       " ('30', 17),\n",
       " ('55', 362),\n",
       " ('29', 207),\n",
       " ('40', 7),\n",
       " ('27', 337),\n",
       " ('47', 4),\n",
       " ('58', 10),\n",
       " ('28', 180),\n",
       " ('66', 305),\n",
       " ('57', 275),\n",
       " ('18', 326),\n",
       " ('46', 151),\n",
       " ('26', 254),\n",
       " ('30', 487),\n",
       " ('31', 394),\n",
       " ('29', 329),\n",
       " ('32', 24),\n",
       " ('33', 460),\n",
       " ('20', 277),\n",
       " ('55', 464),\n",
       " ('54', 72),\n",
       " ('27', 53),\n",
       " ('64', 499),\n",
       " ('69', 15),\n",
       " ('46', 352),\n",
       " ('67', 149),\n",
       " ('26', 7),\n",
       " ('52', 276),\n",
       " ('54', 442),\n",
       " ('39', 68),\n",
       " ('68', 206),\n",
       " ('39', 120),\n",
       " ('41', 397),\n",
       " ('54', 115),\n",
       " ('65', 430),\n",
       " ('19', 119),\n",
       " ('39', 106),\n",
       " ('26', 383),\n",
       " ('48', 266),\n",
       " ('53', 86),\n",
       " ('31', 435),\n",
       " ('62', 273),\n",
       " ('19', 272),\n",
       " ('68', 293),\n",
       " ('66', 201),\n",
       " ('23', 392),\n",
       " ('18', 418),\n",
       " ('47', 97),\n",
       " ('60', 304),\n",
       " ('35', 65),\n",
       " ('38', 95),\n",
       " ('66', 240),\n",
       " ('69', 148),\n",
       " ('67', 355),\n",
       " ('57', 436),\n",
       " ('35', 428),\n",
       " ('43', 335),\n",
       " ('30', 184),\n",
       " ('38', 38),\n",
       " ('22', 266),\n",
       " ('64', 309),\n",
       " ('64', 343),\n",
       " ('50', 436),\n",
       " ('23', 230),\n",
       " ('56', 15),\n",
       " ('67', 38),\n",
       " ('69', 470),\n",
       " ('26', 124),\n",
       " ('24', 401),\n",
       " ('29', 128),\n",
       " ('42', 467),\n",
       " ('58', 98),\n",
       " ('21', 224),\n",
       " ('18', 24),\n",
       " ('56', 371),\n",
       " ('57', 121),\n",
       " ('36', 68),\n",
       " ('62', 496),\n",
       " ('19', 267),\n",
       " ('35', 299),\n",
       " ('58', 22),\n",
       " ('53', 451),\n",
       " ('45', 147),\n",
       " ('56', 313),\n",
       " ('30', 65),\n",
       " ('33', 294),\n",
       " ('37', 106),\n",
       " ('32', 212),\n",
       " ('55', 176),\n",
       " ('26', 391),\n",
       " ('40', 261),\n",
       " ('67', 292),\n",
       " ('44', 388),\n",
       " ('55', 470),\n",
       " ('33', 243),\n",
       " ('24', 77),\n",
       " ('28', 258),\n",
       " ('68', 423),\n",
       " ('63', 345),\n",
       " ('36', 493),\n",
       " ('36', 343),\n",
       " ('45', 54),\n",
       " ('38', 203),\n",
       " ('57', 289),\n",
       " ('42', 275),\n",
       " ('57', 229),\n",
       " ('59', 221),\n",
       " ('42', 95),\n",
       " ('18', 417),\n",
       " ('48', 394),\n",
       " ('38', 143),\n",
       " ('46', 105),\n",
       " ('64', 175),\n",
       " ('18', 472),\n",
       " ('40', 286),\n",
       " ('32', 41),\n",
       " ('38', 34),\n",
       " ('48', 439),\n",
       " ('52', 419),\n",
       " ('37', 234),\n",
       " ('28', 34),\n",
       " ('58', 6),\n",
       " ('44', 337),\n",
       " ('52', 456),\n",
       " ('33', 463),\n",
       " ('37', 471),\n",
       " ('51', 81),\n",
       " ('44', 335),\n",
       " ('26', 84),\n",
       " ('47', 400),\n",
       " ('41', 236),\n",
       " ('23', 287),\n",
       " ('40', 220),\n",
       " ('25', 485),\n",
       " ('53', 126),\n",
       " ('33', 228),\n",
       " ('42', 194),\n",
       " ('46', 227),\n",
       " ('55', 271),\n",
       " ('38', 160),\n",
       " ('52', 273),\n",
       " ('27', 154),\n",
       " ('35', 38),\n",
       " ('34', 48),\n",
       " ('52', 446),\n",
       " ('28', 378),\n",
       " ('50', 119),\n",
       " ('41', 62),\n",
       " ('44', 320),\n",
       " ('43', 428),\n",
       " ('32', 97),\n",
       " ('48', 146),\n",
       " ('57', 99),\n",
       " ('22', 478),\n",
       " ('47', 356),\n",
       " ('49', 17),\n",
       " ('69', 431),\n",
       " ('61', 103),\n",
       " ('33', 410),\n",
       " ('65', 101),\n",
       " ('60', 2),\n",
       " ('19', 36),\n",
       " ('23', 357),\n",
       " ('18', 194),\n",
       " ('46', 155),\n",
       " ('39', 275),\n",
       " ('34', 423),\n",
       " ('62', 36),\n",
       " ('62', 12)]"
      ]
     },
     "execution_count": 34,
     "metadata": {},
     "output_type": "execute_result"
    }
   ],
   "source": [
    "rdd.collect()"
   ]
  },
  {
   "cell_type": "code",
   "execution_count": 44,
   "metadata": {},
   "outputs": [],
   "source": [
    "sumByAge = rdd.mapValues(lambda x : (x,1)).reduceByKey(lambda x,y : (x[0] + y[0], x[1] + y[1]))"
   ]
  },
  {
   "cell_type": "code",
   "execution_count": 47,
   "metadata": {},
   "outputs": [],
   "source": [
    "avgByAge = sumByAge.mapValues(lambda x : round(x[0]/x[1],0))"
   ]
  },
  {
   "cell_type": "code",
   "execution_count": 52,
   "metadata": {},
   "outputs": [
    {
     "data": {
      "text/plain": [
       "[('18', 343.0),\n",
       " ('19', 213.0),\n",
       " ('20', 165.0),\n",
       " ('21', 351.0),\n",
       " ('22', 206.0),\n",
       " ('23', 246.0),\n",
       " ('24', 234.0),\n",
       " ('25', 197.0),\n",
       " ('26', 242.0),\n",
       " ('27', 228.0),\n",
       " ('28', 209.0),\n",
       " ('29', 216.0),\n",
       " ('30', 236.0),\n",
       " ('31', 267.0),\n",
       " ('32', 208.0),\n",
       " ('33', 325.0),\n",
       " ('34', 246.0),\n",
       " ('35', 212.0),\n",
       " ('36', 247.0),\n",
       " ('37', 249.0),\n",
       " ('38', 194.0),\n",
       " ('39', 169.0),\n",
       " ('40', 251.0),\n",
       " ('41', 269.0),\n",
       " ('42', 304.0),\n",
       " ('43', 231.0),\n",
       " ('44', 282.0),\n",
       " ('45', 310.0),\n",
       " ('46', 224.0),\n",
       " ('47', 233.0),\n",
       " ('48', 281.0),\n",
       " ('49', 185.0),\n",
       " ('50', 255.0),\n",
       " ('51', 302.0),\n",
       " ('52', 341.0),\n",
       " ('53', 223.0),\n",
       " ('54', 278.0),\n",
       " ('55', 296.0),\n",
       " ('56', 307.0),\n",
       " ('57', 259.0),\n",
       " ('58', 117.0),\n",
       " ('59', 220.0),\n",
       " ('60', 203.0),\n",
       " ('61', 256.0),\n",
       " ('62', 221.0),\n",
       " ('63', 384.0),\n",
       " ('64', 281.0),\n",
       " ('65', 298.0),\n",
       " ('66', 276.0),\n",
       " ('67', 215.0),\n",
       " ('68', 270.0),\n",
       " ('69', 235.0)]"
      ]
     },
     "execution_count": 52,
     "metadata": {},
     "output_type": "execute_result"
    }
   ],
   "source": [
    "sorted(avgByAge.collect())"
   ]
  },
  {
   "cell_type": "code",
   "execution_count": 62,
   "metadata": {},
   "outputs": [],
   "source": [
    "age_x = [int(x[0]) for x in sorted(avgByAge.collect())]\n",
    "num_f = [int(x[1]) for x in sorted(avgByAge.collect())]"
   ]
  },
  {
   "cell_type": "code",
   "execution_count": 71,
   "metadata": {},
   "outputs": [
    {
     "ename": "ImportError",
     "evalue": "matplotlib is required for plotting when the default backend \"matplotlib\" is selected.",
     "output_type": "error",
     "traceback": [
      "\u001b[1;31m---------------------------------------------------------------------------\u001b[0m",
      "\u001b[1;31mImportError\u001b[0m                               Traceback (most recent call last)",
      "\u001b[1;32m<ipython-input-71-82de406ed057>\u001b[0m in \u001b[0;36m<module>\u001b[1;34m\u001b[0m\n\u001b[0;32m      1\u001b[0m \u001b[0mnew_df\u001b[0m \u001b[1;33m=\u001b[0m \u001b[0mpd\u001b[0m\u001b[1;33m.\u001b[0m\u001b[0mDataFrame\u001b[0m\u001b[1;33m(\u001b[0m\u001b[1;33m{\u001b[0m\u001b[1;34m\"Age\"\u001b[0m\u001b[1;33m:\u001b[0m\u001b[0mage_x\u001b[0m\u001b[1;33m,\u001b[0m \u001b[1;34m\"Avg_Frns\"\u001b[0m\u001b[1;33m:\u001b[0m\u001b[0mnum_f\u001b[0m\u001b[1;33m}\u001b[0m\u001b[1;33m)\u001b[0m\u001b[1;33m\u001b[0m\u001b[1;33m\u001b[0m\u001b[0m\n\u001b[1;32m----> 2\u001b[1;33m \u001b[0mnew_df\u001b[0m\u001b[1;33m.\u001b[0m\u001b[0mplot\u001b[0m\u001b[1;33m(\u001b[0m\u001b[0mx\u001b[0m\u001b[1;33m=\u001b[0m\u001b[1;34m'Age'\u001b[0m\u001b[1;33m,\u001b[0m \u001b[0my\u001b[0m\u001b[1;33m=\u001b[0m\u001b[1;34m'Avg_Frns'\u001b[0m\u001b[1;33m)\u001b[0m\u001b[1;33m\u001b[0m\u001b[1;33m\u001b[0m\u001b[0m\n\u001b[0m",
      "\u001b[1;32mD:\\Softwares\\Anaconda\\envs\\sparks\\lib\\site-packages\\pandas\\plotting\\_core.py\u001b[0m in \u001b[0;36m__call__\u001b[1;34m(self, *args, **kwargs)\u001b[0m\n\u001b[0;32m    867\u001b[0m \u001b[1;33m\u001b[0m\u001b[0m\n\u001b[0;32m    868\u001b[0m     \u001b[1;32mdef\u001b[0m \u001b[0m__call__\u001b[0m\u001b[1;33m(\u001b[0m\u001b[0mself\u001b[0m\u001b[1;33m,\u001b[0m \u001b[1;33m*\u001b[0m\u001b[0margs\u001b[0m\u001b[1;33m,\u001b[0m \u001b[1;33m**\u001b[0m\u001b[0mkwargs\u001b[0m\u001b[1;33m)\u001b[0m\u001b[1;33m:\u001b[0m\u001b[1;33m\u001b[0m\u001b[1;33m\u001b[0m\u001b[0m\n\u001b[1;32m--> 869\u001b[1;33m         \u001b[0mplot_backend\u001b[0m \u001b[1;33m=\u001b[0m \u001b[0m_get_plot_backend\u001b[0m\u001b[1;33m(\u001b[0m\u001b[0mkwargs\u001b[0m\u001b[1;33m.\u001b[0m\u001b[0mpop\u001b[0m\u001b[1;33m(\u001b[0m\u001b[1;34m\"backend\"\u001b[0m\u001b[1;33m,\u001b[0m \u001b[1;32mNone\u001b[0m\u001b[1;33m)\u001b[0m\u001b[1;33m)\u001b[0m\u001b[1;33m\u001b[0m\u001b[1;33m\u001b[0m\u001b[0m\n\u001b[0m\u001b[0;32m    870\u001b[0m \u001b[1;33m\u001b[0m\u001b[0m\n\u001b[0;32m    871\u001b[0m         x, y, kind, kwargs = self._get_call_args(\n",
      "\u001b[1;32mD:\\Softwares\\Anaconda\\envs\\sparks\\lib\\site-packages\\pandas\\plotting\\_core.py\u001b[0m in \u001b[0;36m_get_plot_backend\u001b[1;34m(backend)\u001b[0m\n\u001b[0;32m   1781\u001b[0m                 \u001b[1;34m\"matplotlib is required for plotting when the \"\u001b[0m\u001b[1;33m\u001b[0m\u001b[1;33m\u001b[0m\u001b[0m\n\u001b[0;32m   1782\u001b[0m                 \u001b[1;34m'default backend \"matplotlib\" is selected.'\u001b[0m\u001b[1;33m\u001b[0m\u001b[1;33m\u001b[0m\u001b[0m\n\u001b[1;32m-> 1783\u001b[1;33m             ) from None\n\u001b[0m\u001b[0;32m   1784\u001b[0m \u001b[1;33m\u001b[0m\u001b[0m\n\u001b[0;32m   1785\u001b[0m         \u001b[0m_backends\u001b[0m\u001b[1;33m[\u001b[0m\u001b[1;34m\"matplotlib\"\u001b[0m\u001b[1;33m]\u001b[0m \u001b[1;33m=\u001b[0m \u001b[0mmodule\u001b[0m\u001b[1;33m\u001b[0m\u001b[1;33m\u001b[0m\u001b[0m\n",
      "\u001b[1;31mImportError\u001b[0m: matplotlib is required for plotting when the default backend \"matplotlib\" is selected."
     ]
    }
   ],
   "source": [
    "new_df = pd.DataFrame({\"Age\":age_x, \"Avg_Frns\":num_f})\n",
    "new_df.plot(x='Age', y='Avg_Frns')"
   ]
  },
  {
   "cell_type": "code",
   "execution_count": 18,
   "metadata": {
    "scrolled": true
   },
   "outputs": [
    {
     "data": {
      "text/html": [
       "<div>\n",
       "<style scoped>\n",
       "    .dataframe tbody tr th:only-of-type {\n",
       "        vertical-align: middle;\n",
       "    }\n",
       "\n",
       "    .dataframe tbody tr th {\n",
       "        vertical-align: top;\n",
       "    }\n",
       "\n",
       "    .dataframe thead th {\n",
       "        text-align: right;\n",
       "    }\n",
       "</style>\n",
       "<table border=\"1\" class=\"dataframe\">\n",
       "  <thead>\n",
       "    <tr style=\"text-align: right;\">\n",
       "      <th></th>\n",
       "      <th>Name</th>\n",
       "      <th>Age</th>\n",
       "      <th>f_count</th>\n",
       "    </tr>\n",
       "    <tr>\n",
       "      <th>idx</th>\n",
       "      <th></th>\n",
       "      <th></th>\n",
       "      <th></th>\n",
       "    </tr>\n",
       "  </thead>\n",
       "  <tbody>\n",
       "    <tr>\n",
       "      <th>0</th>\n",
       "      <td>Will</td>\n",
       "      <td>33</td>\n",
       "      <td>385</td>\n",
       "    </tr>\n",
       "    <tr>\n",
       "      <th>1</th>\n",
       "      <td>Jean-Luc</td>\n",
       "      <td>26</td>\n",
       "      <td>2</td>\n",
       "    </tr>\n",
       "    <tr>\n",
       "      <th>2</th>\n",
       "      <td>Hugh</td>\n",
       "      <td>55</td>\n",
       "      <td>221</td>\n",
       "    </tr>\n",
       "    <tr>\n",
       "      <th>3</th>\n",
       "      <td>Deanna</td>\n",
       "      <td>40</td>\n",
       "      <td>465</td>\n",
       "    </tr>\n",
       "    <tr>\n",
       "      <th>4</th>\n",
       "      <td>Quark</td>\n",
       "      <td>68</td>\n",
       "      <td>21</td>\n",
       "    </tr>\n",
       "  </tbody>\n",
       "</table>\n",
       "</div>"
      ],
      "text/plain": [
       "         Name  Age  f_count\n",
       "idx                        \n",
       "0        Will   33      385\n",
       "1    Jean-Luc   26        2\n",
       "2        Hugh   55      221\n",
       "3      Deanna   40      465\n",
       "4       Quark   68       21"
      ]
     },
     "execution_count": 18,
     "metadata": {},
     "output_type": "execute_result"
    }
   ],
   "source": [
    "import pandas as pd\n",
    "df= pd.read_csv(\"./Datasets/fakefriends.csv\", names=[\"idx\",\"Name\",\"Age\",\"f_count\"], index_col=0)\n",
    "df.head()"
   ]
  },
  {
   "cell_type": "code",
   "execution_count": 22,
   "metadata": {},
   "outputs": [],
   "source": [
    "with open(\"./Datasets/fakefriends.csv\", \"r\") as fp:\n",
    "    lines = fp.readlines()\n",
    "    fp.close()"
   ]
  },
  {
   "cell_type": "code",
   "execution_count": 31,
   "metadata": {},
   "outputs": [
    {
     "data": {
      "text/plain": [
       "['33', '385']"
      ]
     },
     "execution_count": 31,
     "metadata": {},
     "output_type": "execute_result"
    }
   ],
   "source": [
    "[w.strip() for w in lines[0].split(\",\")][2:]"
   ]
  },
  {
   "cell_type": "markdown",
   "metadata": {},
   "source": [
    "# Understanding ReduceByKey"
   ]
  },
  {
   "cell_type": "code",
   "execution_count": 78,
   "metadata": {},
   "outputs": [
    {
     "data": {
      "text/plain": [
       "list"
      ]
     },
     "execution_count": 78,
     "metadata": {},
     "output_type": "execute_result"
    }
   ],
   "source": [
    "data = [('Project', 10),\n",
    "('Gutenberg’s', 1),\n",
    "('Alice’s', 1),\n",
    "('Adventures', 1),\n",
    "('in', 1),\n",
    "('Wonderland', 1),\n",
    "('Project', 1),\n",
    "('Gutenberg’s', 1),\n",
    "('Adventures', 1),\n",
    "('in', 1),\n",
    "('Wonderland', 1),\n",
    "('Project', 1),\n",
    "('Gutenberg’s', 1)]\n",
    "\n",
    "type(data)"
   ]
  },
  {
   "cell_type": "code",
   "execution_count": 79,
   "metadata": {},
   "outputs": [],
   "source": [
    "rdd = sc.parallelize(data)"
   ]
  },
  {
   "cell_type": "code",
   "execution_count": 80,
   "metadata": {},
   "outputs": [
    {
     "data": {
      "text/plain": [
       "pyspark.rdd.RDD"
      ]
     },
     "execution_count": 80,
     "metadata": {},
     "output_type": "execute_result"
    }
   ],
   "source": [
    "type(rdd)"
   ]
  },
  {
   "cell_type": "code",
   "execution_count": 81,
   "metadata": {},
   "outputs": [],
   "source": [
    "op = rdd.reduceByKey(lambda x,y : x+y)"
   ]
  },
  {
   "cell_type": "code",
   "execution_count": 82,
   "metadata": {},
   "outputs": [
    {
     "name": "stdout",
     "output_type": "stream",
     "text": [
      "('Project', 12)\n",
      "('Gutenberg’s', 3)\n",
      "('Alice’s', 1)\n",
      "('Adventures', 2)\n",
      "('in', 2)\n",
      "('Wonderland', 2)\n"
     ]
    }
   ],
   "source": [
    "for i in op.collect():\n",
    "    print(i)"
   ]
  },
  {
   "cell_type": "code",
   "execution_count": null,
   "metadata": {},
   "outputs": [],
   "source": []
  }
 ],
 "metadata": {
  "kernelspec": {
   "display_name": "Python 3",
   "language": "python",
   "name": "python3"
  },
  "language_info": {
   "codemirror_mode": {
    "name": "ipython",
    "version": 3
   },
   "file_extension": ".py",
   "mimetype": "text/x-python",
   "name": "python",
   "nbconvert_exporter": "python",
   "pygments_lexer": "ipython3",
   "version": "3.7.9"
  }
 },
 "nbformat": 4,
 "nbformat_minor": 4
}
